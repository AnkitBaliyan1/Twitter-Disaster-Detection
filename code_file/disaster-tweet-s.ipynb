{
 "cells": [
  {
   "cell_type": "code",
   "execution_count": 37,
   "id": "d1744d84",
   "metadata": {
    "_cell_guid": "b1076dfc-b9ad-4769-8c92-a6c4dae69d19",
    "_uuid": "8f2839f25d086af736a60e9eeb907d3b93b6e0e5",
    "execution": {
     "iopub.execute_input": "2023-06-04T12:00:53.369820Z",
     "iopub.status.busy": "2023-06-04T12:00:53.368940Z",
     "iopub.status.idle": "2023-06-04T12:01:00.068718Z",
     "shell.execute_reply": "2023-06-04T12:01:00.067765Z"
    },
    "papermill": {
     "duration": 6.712227,
     "end_time": "2023-06-04T12:01:00.071258",
     "exception": false,
     "start_time": "2023-06-04T12:00:53.359031",
     "status": "completed"
    },
    "tags": []
   },
   "outputs": [],
   "source": [
    "# This Python 3 environment comes with many helpful analytics libraries installed\n",
    "# It is defined by the kaggle/python Docker image: https://github.com/kaggle/docker-python\n",
    "# For example, here's several helpful packages to load\n",
    "\n",
    "import numpy as np # linear algebra\n",
    "import pandas as pd # data processing, CSV file I/O (e.g. pd.read_csv)\n",
    "# from pandas_profiling import ProfileReport\n",
    "from sklearn.model_selection import train_test_split\n",
    "from sklearn.feature_extraction import text\n",
    "import nltk\n",
    "from nltk.tokenize import word_tokenize\n",
    "from nltk.stem import PorterStemmer\n",
    "from nltk.corpus import stopwords\n",
    "import re\n",
    "from sklearn.cluster import KMeans\n",
    "from sklearn.naive_bayes import MultinomialNB\n",
    "# Input data files are available in the read-only \"../input/\" directory\n",
    "# For example, running this (by clicking run or pressing Shift+Enter) will list all files under the input directory\n",
    "\n",
    "import os\n",
    "for dirname, _, filenames in os.walk('/kaggle/input'):\n",
    "    for filename in filenames:\n",
    "        print(os.path.join(dirname, filename))\n",
    "\n",
    "# You can write up to 20GB to the current directory (/kaggle/working/) that gets preserved as output when you create a version using \"Save & Run All\" \n",
    "# You can also write temporary files to /kaggle/temp/, but they won't be saved outside of the current session"
   ]
  },
  {
   "cell_type": "code",
   "execution_count": 38,
   "id": "84851c3e",
   "metadata": {
    "execution": {
     "iopub.execute_input": "2023-06-04T12:01:00.088635Z",
     "iopub.status.busy": "2023-06-04T12:01:00.088090Z",
     "iopub.status.idle": "2023-06-04T12:01:00.187616Z",
     "shell.execute_reply": "2023-06-04T12:01:00.186706Z"
    },
    "papermill": {
     "duration": 0.110692,
     "end_time": "2023-06-04T12:01:00.189721",
     "exception": false,
     "start_time": "2023-06-04T12:01:00.079029",
     "status": "completed"
    },
    "tags": []
   },
   "outputs": [
    {
     "data": {
      "text/html": [
       "<div>\n",
       "<style scoped>\n",
       "    .dataframe tbody tr th:only-of-type {\n",
       "        vertical-align: middle;\n",
       "    }\n",
       "\n",
       "    .dataframe tbody tr th {\n",
       "        vertical-align: top;\n",
       "    }\n",
       "\n",
       "    .dataframe thead th {\n",
       "        text-align: right;\n",
       "    }\n",
       "</style>\n",
       "<table border=\"1\" class=\"dataframe\">\n",
       "  <thead>\n",
       "    <tr style=\"text-align: right;\">\n",
       "      <th></th>\n",
       "      <th>id</th>\n",
       "      <th>keyword</th>\n",
       "      <th>location</th>\n",
       "      <th>text</th>\n",
       "      <th>target</th>\n",
       "    </tr>\n",
       "  </thead>\n",
       "  <tbody>\n",
       "    <tr>\n",
       "      <th>0</th>\n",
       "      <td>1</td>\n",
       "      <td>NaN</td>\n",
       "      <td>NaN</td>\n",
       "      <td>Our Deeds are the Reason of this #earthquake M...</td>\n",
       "      <td>1</td>\n",
       "    </tr>\n",
       "    <tr>\n",
       "      <th>1</th>\n",
       "      <td>4</td>\n",
       "      <td>NaN</td>\n",
       "      <td>NaN</td>\n",
       "      <td>Forest fire near La Ronge Sask. Canada</td>\n",
       "      <td>1</td>\n",
       "    </tr>\n",
       "    <tr>\n",
       "      <th>2</th>\n",
       "      <td>5</td>\n",
       "      <td>NaN</td>\n",
       "      <td>NaN</td>\n",
       "      <td>All residents asked to 'shelter in place' are ...</td>\n",
       "      <td>1</td>\n",
       "    </tr>\n",
       "    <tr>\n",
       "      <th>3</th>\n",
       "      <td>6</td>\n",
       "      <td>NaN</td>\n",
       "      <td>NaN</td>\n",
       "      <td>13,000 people receive #wildfires evacuation or...</td>\n",
       "      <td>1</td>\n",
       "    </tr>\n",
       "    <tr>\n",
       "      <th>4</th>\n",
       "      <td>7</td>\n",
       "      <td>NaN</td>\n",
       "      <td>NaN</td>\n",
       "      <td>Just got sent this photo from Ruby #Alaska as ...</td>\n",
       "      <td>1</td>\n",
       "    </tr>\n",
       "  </tbody>\n",
       "</table>\n",
       "</div>"
      ],
      "text/plain": [
       "   id keyword location                                               text  \\\n",
       "0   1     NaN      NaN  Our Deeds are the Reason of this #earthquake M...   \n",
       "1   4     NaN      NaN             Forest fire near La Ronge Sask. Canada   \n",
       "2   5     NaN      NaN  All residents asked to 'shelter in place' are ...   \n",
       "3   6     NaN      NaN  13,000 people receive #wildfires evacuation or...   \n",
       "4   7     NaN      NaN  Just got sent this photo from Ruby #Alaska as ...   \n",
       "\n",
       "   target  \n",
       "0       1  \n",
       "1       1  \n",
       "2       1  \n",
       "3       1  \n",
       "4       1  "
      ]
     },
     "execution_count": 38,
     "metadata": {},
     "output_type": "execute_result"
    }
   ],
   "source": [
    "train = pd.read_csv(\"/Users/ankitbaliyan/Documents/VS_Code/Ongoing projects/NLP_Disaster/dataset/train.csv\")\n",
    "test = pd.read_csv(\"/Users/ankitbaliyan/Documents/VS_Code/Ongoing projects/NLP_Disaster/dataset/test.csv\")\n",
    "\n",
    "train.head()"
   ]
  },
  {
   "cell_type": "code",
   "execution_count": 39,
   "id": "40ea6023",
   "metadata": {
    "execution": {
     "iopub.execute_input": "2023-06-04T12:01:00.205489Z",
     "iopub.status.busy": "2023-06-04T12:01:00.204979Z",
     "iopub.status.idle": "2023-06-04T12:01:00.228076Z",
     "shell.execute_reply": "2023-06-04T12:01:00.226861Z"
    },
    "papermill": {
     "duration": 0.033145,
     "end_time": "2023-06-04T12:01:00.230128",
     "exception": false,
     "start_time": "2023-06-04T12:01:00.196983",
     "status": "completed"
    },
    "tags": []
   },
   "outputs": [
    {
     "data": {
      "text/html": [
       "<div>\n",
       "<style scoped>\n",
       "    .dataframe tbody tr th:only-of-type {\n",
       "        vertical-align: middle;\n",
       "    }\n",
       "\n",
       "    .dataframe tbody tr th {\n",
       "        vertical-align: top;\n",
       "    }\n",
       "\n",
       "    .dataframe thead th {\n",
       "        text-align: right;\n",
       "    }\n",
       "</style>\n",
       "<table border=\"1\" class=\"dataframe\">\n",
       "  <thead>\n",
       "    <tr style=\"text-align: right;\">\n",
       "      <th></th>\n",
       "      <th>id</th>\n",
       "      <th>target</th>\n",
       "    </tr>\n",
       "  </thead>\n",
       "  <tbody>\n",
       "    <tr>\n",
       "      <th>count</th>\n",
       "      <td>7613.000000</td>\n",
       "      <td>7613.00000</td>\n",
       "    </tr>\n",
       "    <tr>\n",
       "      <th>mean</th>\n",
       "      <td>5441.934848</td>\n",
       "      <td>0.42966</td>\n",
       "    </tr>\n",
       "    <tr>\n",
       "      <th>std</th>\n",
       "      <td>3137.116090</td>\n",
       "      <td>0.49506</td>\n",
       "    </tr>\n",
       "    <tr>\n",
       "      <th>min</th>\n",
       "      <td>1.000000</td>\n",
       "      <td>0.00000</td>\n",
       "    </tr>\n",
       "    <tr>\n",
       "      <th>25%</th>\n",
       "      <td>2734.000000</td>\n",
       "      <td>0.00000</td>\n",
       "    </tr>\n",
       "    <tr>\n",
       "      <th>50%</th>\n",
       "      <td>5408.000000</td>\n",
       "      <td>0.00000</td>\n",
       "    </tr>\n",
       "    <tr>\n",
       "      <th>75%</th>\n",
       "      <td>8146.000000</td>\n",
       "      <td>1.00000</td>\n",
       "    </tr>\n",
       "    <tr>\n",
       "      <th>max</th>\n",
       "      <td>10873.000000</td>\n",
       "      <td>1.00000</td>\n",
       "    </tr>\n",
       "  </tbody>\n",
       "</table>\n",
       "</div>"
      ],
      "text/plain": [
       "                 id      target\n",
       "count   7613.000000  7613.00000\n",
       "mean    5441.934848     0.42966\n",
       "std     3137.116090     0.49506\n",
       "min        1.000000     0.00000\n",
       "25%     2734.000000     0.00000\n",
       "50%     5408.000000     0.00000\n",
       "75%     8146.000000     1.00000\n",
       "max    10873.000000     1.00000"
      ]
     },
     "execution_count": 39,
     "metadata": {},
     "output_type": "execute_result"
    }
   ],
   "source": [
    "train.describe()"
   ]
  },
  {
   "cell_type": "code",
   "execution_count": 40,
   "id": "dd3a6f0b",
   "metadata": {
    "execution": {
     "iopub.execute_input": "2023-06-04T12:01:00.246950Z",
     "iopub.status.busy": "2023-06-04T12:01:00.246557Z",
     "iopub.status.idle": "2023-06-04T12:01:00.261906Z",
     "shell.execute_reply": "2023-06-04T12:01:00.260156Z"
    },
    "papermill": {
     "duration": 0.026402,
     "end_time": "2023-06-04T12:01:00.264123",
     "exception": false,
     "start_time": "2023-06-04T12:01:00.237721",
     "status": "completed"
    },
    "tags": []
   },
   "outputs": [
    {
     "data": {
      "text/plain": [
       "0    our deeds are the reason of this #earthquake m...\n",
       "1               forest fire near la ronge sask. canada\n",
       "2    all residents asked to 'shelter in place' are ...\n",
       "3    13,000 people receive #wildfires evacuation or...\n",
       "4    just got sent this photo from ruby #alaska as ...\n",
       "Name: text, dtype: object"
      ]
     },
     "execution_count": 40,
     "metadata": {},
     "output_type": "execute_result"
    }
   ],
   "source": [
    "text_data=train['text'].astype('str')\n",
    "text_data= text_data.apply(lambda x: x.lower())\n",
    "text_data.head()"
   ]
  },
  {
   "cell_type": "code",
   "execution_count": 41,
   "id": "be0e5cd9",
   "metadata": {
    "execution": {
     "iopub.execute_input": "2023-06-04T12:01:00.279506Z",
     "iopub.status.busy": "2023-06-04T12:01:00.279171Z",
     "iopub.status.idle": "2023-06-04T12:01:00.325946Z",
     "shell.execute_reply": "2023-06-04T12:01:00.324196Z"
    },
    "papermill": {
     "duration": 0.057668,
     "end_time": "2023-06-04T12:01:00.328833",
     "exception": false,
     "start_time": "2023-06-04T12:01:00.271165",
     "status": "completed"
    },
    "tags": []
   },
   "outputs": [
    {
     "data": {
      "text/plain": [
       "0    our deeds are the reason of this  earthquake m...\n",
       "1               forest fire near la ronge sask  canada\n",
       "2    all residents asked to  shelter in place  are ...\n",
       "3    13 000 people receive  wildfires evacuation or...\n",
       "4    just got sent this photo from ruby  alaska as ...\n",
       "Name: text, dtype: object"
      ]
     },
     "execution_count": 41,
     "metadata": {},
     "output_type": "execute_result"
    }
   ],
   "source": [
    "# function to remove special characters\n",
    "text_data= text_data.apply(lambda x: re.sub(\"[^0-9a-zA-Z]\",' ', x))\n",
    "text_data.head()"
   ]
  },
  {
   "cell_type": "code",
   "execution_count": 42,
   "id": "df273877",
   "metadata": {
    "execution": {
     "iopub.execute_input": "2023-06-04T12:01:00.347822Z",
     "iopub.status.busy": "2023-06-04T12:01:00.347390Z",
     "iopub.status.idle": "2023-06-04T12:01:01.465405Z",
     "shell.execute_reply": "2023-06-04T12:01:01.464082Z"
    },
    "papermill": {
     "duration": 1.130815,
     "end_time": "2023-06-04T12:01:01.467704",
     "exception": false,
     "start_time": "2023-06-04T12:01:00.336889",
     "status": "completed"
    },
    "tags": []
   },
   "outputs": [
    {
     "data": {
      "text/plain": [
       "0         deeds reason earthquake may allah forgive us\n",
       "1                forest fire near la ronge sask canada\n",
       "2    residents asked shelter place notified officer...\n",
       "3    13 000 people receive wildfires evacuation ord...\n",
       "4    got sent photo ruby alaska smoke wildfires pou...\n",
       "Name: text, dtype: object"
      ]
     },
     "execution_count": 42,
     "metadata": {},
     "output_type": "execute_result"
    }
   ],
   "source": [
    "# removing stopwords\n",
    "#nltk.download('stopwords')\n",
    "stop_words = set(stopwords.words(\"english\"))\n",
    "stop_words\n",
    "\n",
    "def remove_sw(review):\n",
    "    tokens = word_tokenize(review)\n",
    "    tokens = [w for w in tokens if not w in stop_words]\n",
    "    return \" \".join(tokens)\n",
    "text_data = text_data.apply(remove_sw)\n",
    "text_data.head()"
   ]
  },
  {
   "cell_type": "code",
   "execution_count": 43,
   "id": "91e569b9",
   "metadata": {
    "execution": {
     "iopub.execute_input": "2023-06-04T12:01:01.484906Z",
     "iopub.status.busy": "2023-06-04T12:01:01.484497Z",
     "iopub.status.idle": "2023-06-04T12:01:03.497252Z",
     "shell.execute_reply": "2023-06-04T12:01:03.495735Z"
    },
    "papermill": {
     "duration": 2.024807,
     "end_time": "2023-06-04T12:01:03.500257",
     "exception": false,
     "start_time": "2023-06-04T12:01:01.475450",
     "status": "completed"
    },
    "tags": []
   },
   "outputs": [
    {
     "data": {
      "text/plain": [
       "0            deed reason earthquak may allah forgiv us\n",
       "1                 forest fire near la rong sask canada\n",
       "2    resid ask shelter place notifi offic evacu she...\n",
       "3    13 000 peopl receiv wildfir evacu order califo...\n",
       "4    got sent photo rubi alaska smoke wildfir pour ...\n",
       "Name: text, dtype: object"
      ]
     },
     "execution_count": 43,
     "metadata": {},
     "output_type": "execute_result"
    }
   ],
   "source": [
    "# Stemming - Not required as text is for product description\n",
    "\n",
    "ps = PorterStemmer()\n",
    "\n",
    "def stem(text):\n",
    "    return ' '.join([ps.stem(word) for word in text.split()])\n",
    "\n",
    "text_data= text_data.apply(stem)\n",
    "text_data.head()\n"
   ]
  },
  {
   "cell_type": "code",
   "execution_count": 44,
   "id": "a2872d07",
   "metadata": {
    "execution": {
     "iopub.execute_input": "2023-06-04T12:01:03.518612Z",
     "iopub.status.busy": "2023-06-04T12:01:03.518221Z",
     "iopub.status.idle": "2023-06-04T12:01:03.523787Z",
     "shell.execute_reply": "2023-06-04T12:01:03.522164Z"
    },
    "papermill": {
     "duration": 0.018166,
     "end_time": "2023-06-04T12:01:03.526335",
     "exception": false,
     "start_time": "2023-06-04T12:01:03.508169",
     "status": "completed"
    },
    "tags": []
   },
   "outputs": [],
   "source": [
    "# initialise TF-IDF\n",
    "#text_data=text_data.tolist()\n",
    "#text_data.head()\n"
   ]
  },
  {
   "cell_type": "code",
   "execution_count": 45,
   "id": "0e058ef3",
   "metadata": {
    "execution": {
     "iopub.execute_input": "2023-06-04T12:01:03.542824Z",
     "iopub.status.busy": "2023-06-04T12:01:03.542429Z",
     "iopub.status.idle": "2023-06-04T12:01:03.886015Z",
     "shell.execute_reply": "2023-06-04T12:01:03.884838Z"
    },
    "papermill": {
     "duration": 0.354652,
     "end_time": "2023-06-04T12:01:03.888418",
     "exception": false,
     "start_time": "2023-06-04T12:01:03.533766",
     "status": "completed"
    },
    "tags": []
   },
   "outputs": [],
   "source": [
    "from sklearn.feature_extraction.text import TfidfVectorizer\n",
    "tf = TfidfVectorizer(ngram_range=(1, 2))\n",
    "matrix_tfidf = tf.fit_transform(text_data)"
   ]
  },
  {
   "cell_type": "code",
   "execution_count": 46,
   "id": "e1423bbf",
   "metadata": {
    "execution": {
     "iopub.execute_input": "2023-06-04T12:01:03.904908Z",
     "iopub.status.busy": "2023-06-04T12:01:03.904551Z",
     "iopub.status.idle": "2023-06-04T12:01:03.911274Z",
     "shell.execute_reply": "2023-06-04T12:01:03.909957Z"
    },
    "papermill": {
     "duration": 0.016803,
     "end_time": "2023-06-04T12:01:03.913114",
     "exception": false,
     "start_time": "2023-06-04T12:01:03.896311",
     "status": "completed"
    },
    "tags": []
   },
   "outputs": [
    {
     "data": {
      "text/plain": [
       "(7613, 72528)"
      ]
     },
     "execution_count": 46,
     "metadata": {},
     "output_type": "execute_result"
    }
   ],
   "source": [
    "matrix_tfidf.shape"
   ]
  },
  {
   "cell_type": "code",
   "execution_count": 47,
   "id": "bf79e9b9",
   "metadata": {
    "execution": {
     "iopub.execute_input": "2023-06-04T12:01:03.929680Z",
     "iopub.status.busy": "2023-06-04T12:01:03.929315Z",
     "iopub.status.idle": "2023-06-04T12:01:03.942419Z",
     "shell.execute_reply": "2023-06-04T12:01:03.940856Z"
    },
    "papermill": {
     "duration": 0.024333,
     "end_time": "2023-06-04T12:01:03.945144",
     "exception": false,
     "start_time": "2023-06-04T12:01:03.920811",
     "status": "completed"
    },
    "tags": []
   },
   "outputs": [
    {
     "data": {
      "text/html": [
       "<div>\n",
       "<style scoped>\n",
       "    .dataframe tbody tr th:only-of-type {\n",
       "        vertical-align: middle;\n",
       "    }\n",
       "\n",
       "    .dataframe tbody tr th {\n",
       "        vertical-align: top;\n",
       "    }\n",
       "\n",
       "    .dataframe thead th {\n",
       "        text-align: right;\n",
       "    }\n",
       "</style>\n",
       "<table border=\"1\" class=\"dataframe\">\n",
       "  <thead>\n",
       "    <tr style=\"text-align: right;\">\n",
       "      <th></th>\n",
       "      <th>id</th>\n",
       "      <th>keyword</th>\n",
       "      <th>location</th>\n",
       "      <th>text</th>\n",
       "      <th>target</th>\n",
       "      <th>text_treated</th>\n",
       "    </tr>\n",
       "  </thead>\n",
       "  <tbody>\n",
       "    <tr>\n",
       "      <th>0</th>\n",
       "      <td>1</td>\n",
       "      <td>NaN</td>\n",
       "      <td>NaN</td>\n",
       "      <td>Our Deeds are the Reason of this #earthquake M...</td>\n",
       "      <td>1</td>\n",
       "      <td>deed reason earthquak may allah forgiv us</td>\n",
       "    </tr>\n",
       "    <tr>\n",
       "      <th>1</th>\n",
       "      <td>4</td>\n",
       "      <td>NaN</td>\n",
       "      <td>NaN</td>\n",
       "      <td>Forest fire near La Ronge Sask. Canada</td>\n",
       "      <td>1</td>\n",
       "      <td>forest fire near la rong sask canada</td>\n",
       "    </tr>\n",
       "    <tr>\n",
       "      <th>2</th>\n",
       "      <td>5</td>\n",
       "      <td>NaN</td>\n",
       "      <td>NaN</td>\n",
       "      <td>All residents asked to 'shelter in place' are ...</td>\n",
       "      <td>1</td>\n",
       "      <td>resid ask shelter place notifi offic evacu she...</td>\n",
       "    </tr>\n",
       "    <tr>\n",
       "      <th>3</th>\n",
       "      <td>6</td>\n",
       "      <td>NaN</td>\n",
       "      <td>NaN</td>\n",
       "      <td>13,000 people receive #wildfires evacuation or...</td>\n",
       "      <td>1</td>\n",
       "      <td>13 000 peopl receiv wildfir evacu order califo...</td>\n",
       "    </tr>\n",
       "    <tr>\n",
       "      <th>4</th>\n",
       "      <td>7</td>\n",
       "      <td>NaN</td>\n",
       "      <td>NaN</td>\n",
       "      <td>Just got sent this photo from Ruby #Alaska as ...</td>\n",
       "      <td>1</td>\n",
       "      <td>got sent photo rubi alaska smoke wildfir pour ...</td>\n",
       "    </tr>\n",
       "  </tbody>\n",
       "</table>\n",
       "</div>"
      ],
      "text/plain": [
       "   id keyword location                                               text  \\\n",
       "0   1     NaN      NaN  Our Deeds are the Reason of this #earthquake M...   \n",
       "1   4     NaN      NaN             Forest fire near La Ronge Sask. Canada   \n",
       "2   5     NaN      NaN  All residents asked to 'shelter in place' are ...   \n",
       "3   6     NaN      NaN  13,000 people receive #wildfires evacuation or...   \n",
       "4   7     NaN      NaN  Just got sent this photo from Ruby #Alaska as ...   \n",
       "\n",
       "   target                                       text_treated  \n",
       "0       1          deed reason earthquak may allah forgiv us  \n",
       "1       1               forest fire near la rong sask canada  \n",
       "2       1  resid ask shelter place notifi offic evacu she...  \n",
       "3       1  13 000 peopl receiv wildfir evacu order califo...  \n",
       "4       1  got sent photo rubi alaska smoke wildfir pour ...  "
      ]
     },
     "execution_count": 47,
     "metadata": {},
     "output_type": "execute_result"
    }
   ],
   "source": [
    "train['text_treated']=text_data\n",
    "train.head()"
   ]
  },
  {
   "cell_type": "code",
   "execution_count": 48,
   "id": "d2e2b8ba",
   "metadata": {
    "execution": {
     "iopub.execute_input": "2023-06-04T12:01:03.962369Z",
     "iopub.status.busy": "2023-06-04T12:01:03.961961Z",
     "iopub.status.idle": "2023-06-04T12:01:03.967238Z",
     "shell.execute_reply": "2023-06-04T12:01:03.965821Z"
    },
    "papermill": {
     "duration": 0.016899,
     "end_time": "2023-06-04T12:01:03.969852",
     "exception": false,
     "start_time": "2023-06-04T12:01:03.952953",
     "status": "completed"
    },
    "tags": []
   },
   "outputs": [],
   "source": [
    "X=train['text_treated']\n",
    "Y=train['target']"
   ]
  },
  {
   "cell_type": "code",
   "execution_count": 49,
   "id": "682c7f8f",
   "metadata": {
    "execution": {
     "iopub.execute_input": "2023-06-04T12:01:03.987265Z",
     "iopub.status.busy": "2023-06-04T12:01:03.986859Z",
     "iopub.status.idle": "2023-06-04T12:01:03.997026Z",
     "shell.execute_reply": "2023-06-04T12:01:03.995516Z"
    },
    "papermill": {
     "duration": 0.022083,
     "end_time": "2023-06-04T12:01:03.999609",
     "exception": false,
     "start_time": "2023-06-04T12:01:03.977526",
     "status": "completed"
    },
    "tags": []
   },
   "outputs": [
    {
     "data": {
      "text/plain": [
       "7169    kasiakosek drive suck case know desk look like...\n",
       "306     offici vid doublecup gt gt http co lfkmtzaekk ...\n",
       "1817    brianroemmel ux fail emv peopl want insert rem...\n",
       "1377    attack women health attack america health hill...\n",
       "3332    trafford centr film fan angri odeon cinema eva...\n",
       "Name: text_treated, dtype: object"
      ]
     },
     "execution_count": 49,
     "metadata": {},
     "output_type": "execute_result"
    }
   ],
   "source": [
    "X_train, X_val, y_train, y_val = train_test_split(X, Y, test_size = 0.25)\n",
    "X_train.head()"
   ]
  },
  {
   "cell_type": "code",
   "execution_count": 50,
   "id": "49676536",
   "metadata": {
    "execution": {
     "iopub.execute_input": "2023-06-04T12:01:04.017566Z",
     "iopub.status.busy": "2023-06-04T12:01:04.017213Z",
     "iopub.status.idle": "2023-06-04T12:01:04.021169Z",
     "shell.execute_reply": "2023-06-04T12:01:04.020276Z"
    },
    "papermill": {
     "duration": 0.015438,
     "end_time": "2023-06-04T12:01:04.023172",
     "exception": false,
     "start_time": "2023-06-04T12:01:04.007734",
     "status": "completed"
    },
    "tags": []
   },
   "outputs": [],
   "source": [
    "\n",
    "#X_train_tf=text.TfidfVectorizer(input=X_train.tolist(),ngram_range=(1,1))\n",
    "#X_train_tf= X_train_tf.fit_transform(X_train.tolist())\n",
    "\n",
    "#X_val_tf=text.TfidfVectorizer(input=X_val.tolist(),ngram_range=(1,1))\n",
    "#X_val_tf= X_val_tf.fit_transform(X_val.tolist())"
   ]
  },
  {
   "cell_type": "code",
   "execution_count": 51,
   "id": "84bbe642",
   "metadata": {
    "execution": {
     "iopub.execute_input": "2023-06-04T12:01:04.041612Z",
     "iopub.status.busy": "2023-06-04T12:01:04.041237Z",
     "iopub.status.idle": "2023-06-04T12:01:04.194597Z",
     "shell.execute_reply": "2023-06-04T12:01:04.192687Z"
    },
    "papermill": {
     "duration": 0.165958,
     "end_time": "2023-06-04T12:01:04.197127",
     "exception": false,
     "start_time": "2023-06-04T12:01:04.031169",
     "status": "completed"
    },
    "tags": []
   },
   "outputs": [],
   "source": [
    "tf=text.TfidfVectorizer()\n",
    "X_train_tf=tf.fit_transform(X_train.tolist())\n",
    "\n",
    "#X_val_tf=text.TfidfVectorizer()\n",
    "X_val_tf= tf.transform(X_val.tolist())"
   ]
  },
  {
   "cell_type": "code",
   "execution_count": 52,
   "id": "9b7271ab",
   "metadata": {
    "execution": {
     "iopub.execute_input": "2023-06-04T12:01:04.215618Z",
     "iopub.status.busy": "2023-06-04T12:01:04.215272Z",
     "iopub.status.idle": "2023-06-04T12:01:04.224512Z",
     "shell.execute_reply": "2023-06-04T12:01:04.222839Z"
    },
    "papermill": {
     "duration": 0.021616,
     "end_time": "2023-06-04T12:01:04.226859",
     "exception": false,
     "start_time": "2023-06-04T12:01:04.205243",
     "status": "completed"
    },
    "tags": []
   },
   "outputs": [
    {
     "data": {
      "text/plain": [
       "(5709, 15024)"
      ]
     },
     "execution_count": 52,
     "metadata": {},
     "output_type": "execute_result"
    }
   ],
   "source": [
    "X_train_tf.shape"
   ]
  },
  {
   "cell_type": "code",
   "execution_count": 53,
   "id": "d437720a",
   "metadata": {
    "execution": {
     "iopub.execute_input": "2023-06-04T12:01:04.246003Z",
     "iopub.status.busy": "2023-06-04T12:01:04.245675Z",
     "iopub.status.idle": "2023-06-04T12:01:04.252125Z",
     "shell.execute_reply": "2023-06-04T12:01:04.250698Z"
    },
    "papermill": {
     "duration": 0.019631,
     "end_time": "2023-06-04T12:01:04.254771",
     "exception": false,
     "start_time": "2023-06-04T12:01:04.235140",
     "status": "completed"
    },
    "tags": []
   },
   "outputs": [
    {
     "data": {
      "text/plain": [
       "(1904, 15024)"
      ]
     },
     "execution_count": 53,
     "metadata": {},
     "output_type": "execute_result"
    }
   ],
   "source": [
    "X_val_tf.shape"
   ]
  },
  {
   "cell_type": "code",
   "execution_count": 54,
   "id": "4985f20a",
   "metadata": {
    "execution": {
     "iopub.execute_input": "2023-06-04T12:01:04.276707Z",
     "iopub.status.busy": "2023-06-04T12:01:04.276299Z",
     "iopub.status.idle": "2023-06-04T12:01:04.282576Z",
     "shell.execute_reply": "2023-06-04T12:01:04.281693Z"
    },
    "papermill": {
     "duration": 0.019114,
     "end_time": "2023-06-04T12:01:04.284529",
     "exception": false,
     "start_time": "2023-06-04T12:01:04.265415",
     "status": "completed"
    },
    "tags": []
   },
   "outputs": [
    {
     "data": {
      "text/plain": [
       "(1904,)"
      ]
     },
     "execution_count": 54,
     "metadata": {},
     "output_type": "execute_result"
    }
   ],
   "source": [
    "y_val.shape"
   ]
  },
  {
   "cell_type": "code",
   "execution_count": 55,
   "id": "e5664fb6",
   "metadata": {
    "execution": {
     "iopub.execute_input": "2023-06-04T12:01:04.302987Z",
     "iopub.status.busy": "2023-06-04T12:01:04.302628Z",
     "iopub.status.idle": "2023-06-04T12:01:04.308797Z",
     "shell.execute_reply": "2023-06-04T12:01:04.307727Z"
    },
    "papermill": {
     "duration": 0.017776,
     "end_time": "2023-06-04T12:01:04.310711",
     "exception": false,
     "start_time": "2023-06-04T12:01:04.292935",
     "status": "completed"
    },
    "tags": []
   },
   "outputs": [
    {
     "data": {
      "text/plain": [
       "(5709,)"
      ]
     },
     "execution_count": 55,
     "metadata": {},
     "output_type": "execute_result"
    }
   ],
   "source": [
    "y_train.shape"
   ]
  },
  {
   "cell_type": "code",
   "execution_count": 56,
   "id": "169358bf",
   "metadata": {
    "execution": {
     "iopub.execute_input": "2023-06-04T12:01:04.329912Z",
     "iopub.status.busy": "2023-06-04T12:01:04.329483Z",
     "iopub.status.idle": "2023-06-04T12:01:04.348539Z",
     "shell.execute_reply": "2023-06-04T12:01:04.347229Z"
    },
    "papermill": {
     "duration": 0.032115,
     "end_time": "2023-06-04T12:01:04.351187",
     "exception": false,
     "start_time": "2023-06-04T12:01:04.319072",
     "status": "completed"
    },
    "tags": []
   },
   "outputs": [
    {
     "data": {
      "text/plain": [
       "MultinomialNB()"
      ]
     },
     "execution_count": 56,
     "metadata": {},
     "output_type": "execute_result"
    }
   ],
   "source": [
    "mnb = MultinomialNB()\n",
    "mnb.fit(X_train_tf, y_train)"
   ]
  },
  {
   "cell_type": "code",
   "execution_count": 57,
   "id": "a8a1326e",
   "metadata": {
    "execution": {
     "iopub.execute_input": "2023-06-04T12:01:04.372270Z",
     "iopub.status.busy": "2023-06-04T12:01:04.371478Z",
     "iopub.status.idle": "2023-06-04T12:01:04.382933Z",
     "shell.execute_reply": "2023-06-04T12:01:04.381303Z"
    },
    "papermill": {
     "duration": 0.024879,
     "end_time": "2023-06-04T12:01:04.385100",
     "exception": false,
     "start_time": "2023-06-04T12:01:04.360221",
     "status": "completed"
    },
    "tags": []
   },
   "outputs": [
    {
     "data": {
      "text/plain": [
       "0.805672268907563"
      ]
     },
     "execution_count": 57,
     "metadata": {},
     "output_type": "execute_result"
    }
   ],
   "source": [
    "mnb.score(X_val_tf, y_val)"
   ]
  },
  {
   "cell_type": "code",
   "execution_count": 58,
   "id": "65be6a5d",
   "metadata": {
    "execution": {
     "iopub.execute_input": "2023-06-04T12:01:04.404821Z",
     "iopub.status.busy": "2023-06-04T12:01:04.404462Z",
     "iopub.status.idle": "2023-06-04T12:01:04.418287Z",
     "shell.execute_reply": "2023-06-04T12:01:04.416500Z"
    },
    "papermill": {
     "duration": 0.026665,
     "end_time": "2023-06-04T12:01:04.420684",
     "exception": false,
     "start_time": "2023-06-04T12:01:04.394019",
     "status": "completed"
    },
    "tags": []
   },
   "outputs": [
    {
     "data": {
      "text/html": [
       "<div>\n",
       "<style scoped>\n",
       "    .dataframe tbody tr th:only-of-type {\n",
       "        vertical-align: middle;\n",
       "    }\n",
       "\n",
       "    .dataframe tbody tr th {\n",
       "        vertical-align: top;\n",
       "    }\n",
       "\n",
       "    .dataframe thead th {\n",
       "        text-align: right;\n",
       "    }\n",
       "</style>\n",
       "<table border=\"1\" class=\"dataframe\">\n",
       "  <thead>\n",
       "    <tr style=\"text-align: right;\">\n",
       "      <th></th>\n",
       "      <th>id</th>\n",
       "      <th>keyword</th>\n",
       "      <th>location</th>\n",
       "      <th>text</th>\n",
       "    </tr>\n",
       "  </thead>\n",
       "  <tbody>\n",
       "    <tr>\n",
       "      <th>0</th>\n",
       "      <td>0</td>\n",
       "      <td>NaN</td>\n",
       "      <td>NaN</td>\n",
       "      <td>Just happened a terrible car crash</td>\n",
       "    </tr>\n",
       "    <tr>\n",
       "      <th>1</th>\n",
       "      <td>2</td>\n",
       "      <td>NaN</td>\n",
       "      <td>NaN</td>\n",
       "      <td>Heard about #earthquake is different cities, s...</td>\n",
       "    </tr>\n",
       "    <tr>\n",
       "      <th>2</th>\n",
       "      <td>3</td>\n",
       "      <td>NaN</td>\n",
       "      <td>NaN</td>\n",
       "      <td>there is a forest fire at spot pond, geese are...</td>\n",
       "    </tr>\n",
       "    <tr>\n",
       "      <th>3</th>\n",
       "      <td>9</td>\n",
       "      <td>NaN</td>\n",
       "      <td>NaN</td>\n",
       "      <td>Apocalypse lighting. #Spokane #wildfires</td>\n",
       "    </tr>\n",
       "    <tr>\n",
       "      <th>4</th>\n",
       "      <td>11</td>\n",
       "      <td>NaN</td>\n",
       "      <td>NaN</td>\n",
       "      <td>Typhoon Soudelor kills 28 in China and Taiwan</td>\n",
       "    </tr>\n",
       "  </tbody>\n",
       "</table>\n",
       "</div>"
      ],
      "text/plain": [
       "   id keyword location                                               text\n",
       "0   0     NaN      NaN                 Just happened a terrible car crash\n",
       "1   2     NaN      NaN  Heard about #earthquake is different cities, s...\n",
       "2   3     NaN      NaN  there is a forest fire at spot pond, geese are...\n",
       "3   9     NaN      NaN           Apocalypse lighting. #Spokane #wildfires\n",
       "4  11     NaN      NaN      Typhoon Soudelor kills 28 in China and Taiwan"
      ]
     },
     "execution_count": 58,
     "metadata": {},
     "output_type": "execute_result"
    }
   ],
   "source": [
    "# Prediction on test set\n",
    "\n",
    "test.head()"
   ]
  },
  {
   "cell_type": "code",
   "execution_count": 59,
   "id": "1412d357",
   "metadata": {
    "execution": {
     "iopub.execute_input": "2023-06-04T12:01:04.441056Z",
     "iopub.status.busy": "2023-06-04T12:01:04.440635Z",
     "iopub.status.idle": "2023-06-04T12:01:04.445535Z",
     "shell.execute_reply": "2023-06-04T12:01:04.444345Z"
    },
    "papermill": {
     "duration": 0.017907,
     "end_time": "2023-06-04T12:01:04.447722",
     "exception": false,
     "start_time": "2023-06-04T12:01:04.429815",
     "status": "completed"
    },
    "tags": []
   },
   "outputs": [],
   "source": [
    "test_id=test['id']"
   ]
  },
  {
   "cell_type": "code",
   "execution_count": 60,
   "id": "568c1e62",
   "metadata": {
    "execution": {
     "iopub.execute_input": "2023-06-04T12:01:04.468021Z",
     "iopub.status.busy": "2023-06-04T12:01:04.467606Z",
     "iopub.status.idle": "2023-06-04T12:01:04.480056Z",
     "shell.execute_reply": "2023-06-04T12:01:04.478991Z"
    },
    "papermill": {
     "duration": 0.025256,
     "end_time": "2023-06-04T12:01:04.482247",
     "exception": false,
     "start_time": "2023-06-04T12:01:04.456991",
     "status": "completed"
    },
    "tags": []
   },
   "outputs": [
    {
     "data": {
      "text/plain": [
       "0                   just happened a terrible car crash\n",
       "1    heard about #earthquake is different cities, s...\n",
       "2    there is a forest fire at spot pond, geese are...\n",
       "3             apocalypse lighting. #spokane #wildfires\n",
       "4        typhoon soudelor kills 28 in china and taiwan\n",
       "Name: text, dtype: object"
      ]
     },
     "execution_count": 60,
     "metadata": {},
     "output_type": "execute_result"
    }
   ],
   "source": [
    "test_text=test['text'].astype('str')\n",
    "test_text= test_text.apply(lambda x: x.lower())\n",
    "test_text.head()"
   ]
  },
  {
   "cell_type": "code",
   "execution_count": 61,
   "id": "70b817aa",
   "metadata": {
    "execution": {
     "iopub.execute_input": "2023-06-04T12:01:04.502998Z",
     "iopub.status.busy": "2023-06-04T12:01:04.502623Z",
     "iopub.status.idle": "2023-06-04T12:01:04.533920Z",
     "shell.execute_reply": "2023-06-04T12:01:04.532427Z"
    },
    "papermill": {
     "duration": 0.045257,
     "end_time": "2023-06-04T12:01:04.536886",
     "exception": false,
     "start_time": "2023-06-04T12:01:04.491629",
     "status": "completed"
    },
    "tags": []
   },
   "outputs": [
    {
     "data": {
      "text/plain": [
       "0                   just happened a terrible car crash\n",
       "1    heard about  earthquake is different cities  s...\n",
       "2    there is a forest fire at spot pond  geese are...\n",
       "3             apocalypse lighting   spokane  wildfires\n",
       "4        typhoon soudelor kills 28 in china and taiwan\n",
       "Name: text, dtype: object"
      ]
     },
     "execution_count": 61,
     "metadata": {},
     "output_type": "execute_result"
    }
   ],
   "source": [
    "# function to remove special characters\n",
    "test_text= test_text.apply(lambda x: re.sub(\"[^0-9a-zA-Z]\",' ', x))\n",
    "test_text.head()"
   ]
  },
  {
   "cell_type": "code",
   "execution_count": 62,
   "id": "e95735aa",
   "metadata": {
    "execution": {
     "iopub.execute_input": "2023-06-04T12:01:04.560641Z",
     "iopub.status.busy": "2023-06-04T12:01:04.559910Z",
     "iopub.status.idle": "2023-06-04T12:01:04.991207Z",
     "shell.execute_reply": "2023-06-04T12:01:04.990319Z"
    },
    "papermill": {
     "duration": 0.446916,
     "end_time": "2023-06-04T12:01:04.993872",
     "exception": false,
     "start_time": "2023-06-04T12:01:04.546956",
     "status": "completed"
    },
    "tags": []
   },
   "outputs": [
    {
     "data": {
      "text/plain": [
       "0                          happened terrible car crash\n",
       "1    heard earthquake different cities stay safe ev...\n",
       "2    forest fire spot pond geese fleeing across str...\n",
       "3                apocalypse lighting spokane wildfires\n",
       "4               typhoon soudelor kills 28 china taiwan\n",
       "Name: text, dtype: object"
      ]
     },
     "execution_count": 62,
     "metadata": {},
     "output_type": "execute_result"
    }
   ],
   "source": [
    "test_text = test_text.apply(remove_sw)\n",
    "test_text.head()"
   ]
  },
  {
   "cell_type": "code",
   "execution_count": 63,
   "id": "1956fd57",
   "metadata": {
    "execution": {
     "iopub.execute_input": "2023-06-04T12:01:05.015565Z",
     "iopub.status.busy": "2023-06-04T12:01:05.013761Z",
     "iopub.status.idle": "2023-06-04T12:01:05.880333Z",
     "shell.execute_reply": "2023-06-04T12:01:05.879273Z"
    },
    "papermill": {
     "duration": 0.878643,
     "end_time": "2023-06-04T12:01:05.882027",
     "exception": false,
     "start_time": "2023-06-04T12:01:05.003384",
     "status": "completed"
    },
    "tags": []
   },
   "outputs": [
    {
     "data": {
      "text/plain": [
       "0                             happen terribl car crash\n",
       "1        heard earthquak differ citi stay safe everyon\n",
       "2    forest fire spot pond gees flee across street ...\n",
       "3                       apocalyps light spokan wildfir\n",
       "4                typhoon soudelor kill 28 china taiwan\n",
       "Name: text, dtype: object"
      ]
     },
     "execution_count": 63,
     "metadata": {},
     "output_type": "execute_result"
    }
   ],
   "source": [
    "test_text= test_text.apply(stem)\n",
    "test_text.head()"
   ]
  },
  {
   "cell_type": "code",
   "execution_count": 64,
   "id": "3ae80b25",
   "metadata": {
    "execution": {
     "iopub.execute_input": "2023-06-04T12:01:05.901612Z",
     "iopub.status.busy": "2023-06-04T12:01:05.900791Z",
     "iopub.status.idle": "2023-06-04T12:01:05.946778Z",
     "shell.execute_reply": "2023-06-04T12:01:05.945057Z"
    },
    "papermill": {
     "duration": 0.058254,
     "end_time": "2023-06-04T12:01:05.949029",
     "exception": false,
     "start_time": "2023-06-04T12:01:05.890775",
     "status": "completed"
    },
    "tags": []
   },
   "outputs": [],
   "source": [
    "test_text=test_text.tolist()\n",
    "\n",
    "test_matrix_tfidf=tf.transform(test_text)"
   ]
  },
  {
   "cell_type": "code",
   "execution_count": 65,
   "id": "55cfae2f",
   "metadata": {
    "execution": {
     "iopub.execute_input": "2023-06-04T12:01:05.969001Z",
     "iopub.status.busy": "2023-06-04T12:01:05.968603Z",
     "iopub.status.idle": "2023-06-04T12:01:05.974704Z",
     "shell.execute_reply": "2023-06-04T12:01:05.972992Z"
    },
    "papermill": {
     "duration": 0.018772,
     "end_time": "2023-06-04T12:01:05.976990",
     "exception": false,
     "start_time": "2023-06-04T12:01:05.958218",
     "status": "completed"
    },
    "tags": []
   },
   "outputs": [],
   "source": [
    "predictions=mnb.predict(test_matrix_tfidf)"
   ]
  },
  {
   "cell_type": "code",
   "execution_count": 66,
   "id": "1a617efb",
   "metadata": {
    "execution": {
     "iopub.execute_input": "2023-06-04T12:01:05.997371Z",
     "iopub.status.busy": "2023-06-04T12:01:05.996999Z",
     "iopub.status.idle": "2023-06-04T12:01:06.012033Z",
     "shell.execute_reply": "2023-06-04T12:01:06.011351Z"
    },
    "papermill": {
     "duration": 0.027928,
     "end_time": "2023-06-04T12:01:06.014150",
     "exception": false,
     "start_time": "2023-06-04T12:01:05.986222",
     "status": "completed"
    },
    "tags": []
   },
   "outputs": [],
   "source": [
    "predictions = pd.Series(predictions)\n",
    "ids = pd.Series(test_id)\n",
    "\n",
    "pred_df = pd.concat([ids, predictions], keys = ['id', 'target'], axis = 1)\n",
    "\n",
    "#pred_df.to_csv('submission.csv',index = False)"
   ]
  },
  {
   "cell_type": "code",
   "execution_count": 67,
   "id": "bdd0de09",
   "metadata": {},
   "outputs": [
    {
     "data": {
      "text/plain": [
       "0    2206\n",
       "1    1057\n",
       "Name: target, dtype: int64"
      ]
     },
     "execution_count": 67,
     "metadata": {},
     "output_type": "execute_result"
    }
   ],
   "source": [
    "pred_df.target.value_counts()"
   ]
  },
  {
   "cell_type": "code",
   "execution_count": null,
   "id": "d3f45326",
   "metadata": {},
   "outputs": [],
   "source": []
  }
 ],
 "metadata": {
  "kernelspec": {
   "display_name": "Python 3",
   "language": "python",
   "name": "python3"
  },
  "language_info": {
   "codemirror_mode": {
    "name": "ipython",
    "version": 3
   },
   "file_extension": ".py",
   "mimetype": "text/x-python",
   "name": "python",
   "nbconvert_exporter": "python",
   "pygments_lexer": "ipython3",
   "version": "3.9.13"
  },
  "papermill": {
   "default_parameters": {},
   "duration": 24.720293,
   "end_time": "2023-06-04T12:01:07.348726",
   "environment_variables": {},
   "exception": null,
   "input_path": "__notebook__.ipynb",
   "output_path": "__notebook__.ipynb",
   "parameters": {},
   "start_time": "2023-06-04T12:00:42.628433",
   "version": "2.4.0"
  }
 },
 "nbformat": 4,
 "nbformat_minor": 5
}
